{
 "cells": [
  {
   "cell_type": "code",
   "execution_count": 1,
   "id": "8315167b-8170-48bf-b7ca-f33faf86d294",
   "metadata": {},
   "outputs": [],
   "source": [
    "import tkinter as tk                           #inbuilt library \n",
    "import tkinter.ttk as ttk\n",
    "from tkinter import messagebox\n",
    "import mysql.connector"
   ]
  },
  {
   "cell_type": "code",
   "execution_count": 164,
   "id": "f8333a51-af77-44f1-b56d-351e5bc3e191",
   "metadata": {},
   "outputs": [],
   "source": [
    "class admin_table:\n",
    "    def __init__(self, root):\n",
    "        self.root = root\n",
    "        self.root.title('Hostel Room Management System')\n",
    "        self.root.geometry(\"1550x800+0+0\")         #create window height ,width\n",
    "        \n",
    "        btnAdd=tk.Button(self.root, text=\"Add\", font=(\"arial\", 11, \"bold\"), bg=\"black\", fg=\"gold\", width=8) \n",
    "        btnAdd.place(x=380,y=600)\n",
    "        \n",
    "        btnUpadate=tk.Button(self.root, text=\"Update\", font=(\"arial\", 11, \"bold\"), bg=\"black\", fg=\"gold\", width=8)  \n",
    "        btnUpadate.place(x=500,y=600)\n",
    "        \n",
    "        btnDelete=tk.Button(self.root,text=\"Delete\", font=(\"arial\", 11, \"bold\"), bg=\"black\", fg=\"gold\", width=8)  \n",
    "        btnDelete.place(x=620,y=600)\n",
    "        \n",
    "        btnReset=tk.Button(self.root, text=\"Reset\", font=(\"arial\", 11, \"bold\"), bg=\"black\", fg=\"gold\", width=8) \n",
    "        btnReset.place(x=750,y=600)\n",
    "\n",
    "        #==================Detail table====================#\n",
    "        Table_Frame=tk.LabelFrame(self.root, bd=2, relief=tk.RIDGE, text=\"View Student Details\",font=(\"arial\",12,\"bold\"),padx=2)\n",
    "        Table_Frame.place(x=260,y=50, width=825,height=490)\n",
    "        \n",
    "        details_table=tk.Frame(Table_Frame, bd=2, relief=tk.RIDGE) \n",
    "        details_table.place(x=0,y=50, width=860, height=350) \n",
    "        \n",
    "        scroll_x = ttk.Scrollbar(details_table, orient=tk.HORIZONTAL)\n",
    "        scroll_y = ttk.Scrollbar(details_table, orient=tk.VERTICAL)\n",
    "\n",
    "        \n",
    "        self.Cust_Details_Table = ttk.Treeview(details_table, column=(\"Student_name\", \"Mother_name\", \"Father_name\", \"Mobile_no\", \"Email\", \"address\", \"Hostel\", \"DOB\", \"Enrollment_no\", \"Room_no\"),xscrollcommand=scroll_x.set, yscrollcommand=scroll_y.set)\n",
    "\n",
    "        scroll_x.pack(side='bottom', fill='x')  # Change BOTTOM to 'bottom'\n",
    "        scroll_y.pack(side='right', fill='y')   # This is fine as 'right' is correct\n",
    "\n",
    "        \n",
    "        scroll_x.config(command=self.Cust_Details_Table.xview) \n",
    "        scroll_y.config(command=self.Cust_Details_Table.yview) \n",
    "        \n",
    "        # Column configuration for Treeview\n",
    "        self.Cust_Details_Table.heading(\"Student_name\", text=\"Student Name\")\n",
    "        self.Cust_Details_Table.heading(\"Mother_name\", text=\"Mother Name\")\n",
    "        self.Cust_Details_Table.heading(\"Father_name\", text=\"Father Name\")\n",
    "        self.Cust_Details_Table.heading(\"Mobile_no\", text=\"Mobile No.\")\n",
    "        self.Cust_Details_Table.heading(\"Email\", text=\"Email\")\n",
    "        self.Cust_Details_Table.heading(\"address\", text=\"Address\")\n",
    "        self.Cust_Details_Table.heading(\"Hostel\", text=\"Hostel\")\n",
    "        self.Cust_Details_Table.heading(\"DOB\", text=\"Date of Birth\")\n",
    "        self.Cust_Details_Table.heading(\"Enrollment_no\", text=\"Enrollment No.\")\n",
    "        self.Cust_Details_Table.heading(\"Room_no\", text=\"Room No.\")\n",
    "\n",
    "\n",
    "        self.Cust_Details_Table[\"show\"]=\"headings\"\n",
    "        self.Cust_Details_Table.pack(fill=tk.BOTH, expand=True)\n",
    "        self.fetch_data()\n",
    "\n",
    "    def open_insert_page(self):\n",
    "        # Open the hostelRegistration page and pass the current admin_table instance to it\n",
    "        new_window = tk.Toplevel(self.root)\n",
    "        hostelRegistration(new_window, self)\n",
    "        \n",
    "    def fetch_data(self): \n",
    "        conn=mysql.connector.connect(host=\"localhost\", username=\"root\", password=\"Kashish@1234\", database=\"management\") \n",
    "        my_cursor=conn.cursor() \n",
    "        my_cursor.execute(\"select * from Registration\") \n",
    "        rows=my_cursor.fetchall() \n",
    "        if len(rows)!=0: \n",
    "          self.Cust_Details_Table.delete(*self.Cust_Details_Table.get_children()) \n",
    "          for i in rows: \n",
    "            self.Cust_Details_Table.insert(\"\",tk.END, values=i) \n",
    "          conn.commit() \n",
    "        conn.close()  "
   ]
  },
  {
   "cell_type": "code",
   "execution_count": 169,
   "id": "bb583400-b341-4363-8145-613e3e925f66",
   "metadata": {},
   "outputs": [],
   "source": [
    "if __name__=='__main__':\n",
    "    root=tk.Tk()\n",
    "    obj=admin_table(root)\n",
    "    root.mainloop()"
   ]
  },
  {
   "cell_type": "code",
   "execution_count": null,
   "id": "54a98a3e-2781-412f-9e1d-b56f67b55eb5",
   "metadata": {},
   "outputs": [],
   "source": []
  }
 ],
 "metadata": {
  "kernelspec": {
   "display_name": "Python 3 (ipykernel)",
   "language": "python",
   "name": "python3"
  },
  "language_info": {
   "codemirror_mode": {
    "name": "ipython",
    "version": 3
   },
   "file_extension": ".py",
   "mimetype": "text/x-python",
   "name": "python",
   "nbconvert_exporter": "python",
   "pygments_lexer": "ipython3",
   "version": "3.13.0"
  }
 },
 "nbformat": 4,
 "nbformat_minor": 5
}
